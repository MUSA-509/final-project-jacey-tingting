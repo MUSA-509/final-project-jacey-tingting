{
 "cells": [
  {
   "cell_type": "code",
   "execution_count": 2,
   "metadata": {},
   "outputs": [],
   "source": [
    "import json\n",
    "from sqlalchemy import create_engine, String, Integer\n",
    "from sqlalchemy.sql import text, bindparam"
   ]
  },
  {
   "cell_type": "code",
   "execution_count": 11,
   "metadata": {},
   "outputs": [],
   "source": [
    "import pandas as pd\n",
    "import geopandas as gpd"
   ]
  },
  {
   "cell_type": "code",
   "execution_count": 39,
   "metadata": {},
   "outputs": [],
   "source": [
    "with open(\"pg-credentials.json\", \"r\") as f_in:\n",
    "    pg_creds = json.load(f_in)\n",
    "\n",
    "# mapbox\n",
    "with open(\"mapbox_token.json\", \"r\") as mb_token:\n",
    "    MAPBOX_TOKEN = json.load(mb_token)[\"token\"]\n",
    "\n",
    "# load credentials from JSON file\n",
    "HOST = pg_creds[\"HOST\"]\n",
    "USERNAME = pg_creds[\"USERNAME\"]\n",
    "PASSWORD = pg_creds[\"PASSWORD\"]\n",
    "DATABASE = pg_creds[\"DATABASE\"]\n",
    "PORT = pg_creds[\"PORT\"]\n",
    "engine = create_engine(f\"postgresql://{USERNAME}:{PASSWORD}@{HOST}:{PORT}/{DATABASE}\")"
   ]
  },
  {
   "cell_type": "code",
   "execution_count": 49,
   "metadata": {},
   "outputs": [],
   "source": [
    "def bus5(lng,lat):\n",
    "    query = text(\"\"\"\n",
    "    SELECT \"Stop_Name\",\"Mode\",\"Latitude\",\"Longitude\",geometry,\n",
    "        ROUND(ST_Distance(geometry::geography,ST_MakePoint(-75.1927,39.9522)::geography))AS Distance\n",
    "    FROM stops_philly\n",
    "    WHERE \"Mode\"!='Highspeed'\n",
    "    ORDER BY Distance\n",
    "    LIMIT 5\n",
    "\"\"\")\n",
    "    #gdf=[dict(row) for row in engine.execute(query, longitude=lng, latitude=lat).fetchall()]\n",
    "    gdf=gpd.GeoDataFrame([dict(row) for row in engine.execute(query, longitude=lng, latitude=lat).fetchall()])\n",
    "    return gdf"
   ]
  },
  {
   "cell_type": "code",
   "execution_count": 41,
   "metadata": {},
   "outputs": [],
   "source": [
    "def rail2(lng,lat):\n",
    "    query = text(\"\"\"\n",
    "    SELECT \"Stop_Name\",\"Mode\",\"Latitude\",\"Longitude\",geometry,\n",
    "        ST_Distance(geometry::geography,ST_MakePoint(-75.1927,39.9522)::geography)AS Distance\n",
    "    FROM stops_philly\n",
    "    WHERE \"Mode\"='Highspeed'\n",
    "    ORDER BY Distance\n",
    "    LIMIT 2\n",
    "\"\"\")\n",
    "    #gdf=[dict(row) for row in engine.execute(query, longitude=lng, latitude=lat).fetchall()]\n",
    "    gdf=gpd.GeoDataFrame([dict(row) for row in engine.execute(query, longitude=lng, latitude=lat).fetchall()])\n",
    "    return gdf"
   ]
  },
  {
   "cell_type": "code",
   "execution_count": 55,
   "metadata": {},
   "outputs": [],
   "source": [
    "bus=bus5(-75.1927,39.9522)"
   ]
  },
  {
   "cell_type": "code",
   "execution_count": 57,
   "metadata": {},
   "outputs": [
    {
     "data": {
      "text/plain": [
       "Stop_Name     object\n",
       "Mode          object\n",
       "Latitude     float64\n",
       "Longitude    float64\n",
       "geometry      object\n",
       "distance     float64\n",
       "dtype: object"
      ]
     },
     "execution_count": 57,
     "metadata": {},
     "output_type": "execute_result"
    }
   ],
   "source": [
    "bus.dtypes"
   ]
  },
  {
   "cell_type": "code",
   "execution_count": 31,
   "metadata": {},
   "outputs": [
    {
     "data": {
      "text/plain": [
       "pandas.core.series.Series"
      ]
     },
     "execution_count": 31,
     "metadata": {},
     "output_type": "execute_result"
    }
   ],
   "source": [
    "type(tmp.geometry)"
   ]
  },
  {
   "cell_type": "code",
   "execution_count": null,
   "metadata": {},
   "outputs": [],
   "source": []
  }
 ],
 "metadata": {
  "kernelspec": {
   "display_name": "Python 3",
   "language": "python",
   "name": "python3"
  },
  "language_info": {
   "codemirror_mode": {
    "name": "ipython",
    "version": 3
   },
   "file_extension": ".py",
   "mimetype": "text/x-python",
   "name": "python",
   "nbconvert_exporter": "python",
   "pygments_lexer": "ipython3",
   "version": "3.8.5"
  }
 },
 "nbformat": 4,
 "nbformat_minor": 4
}
