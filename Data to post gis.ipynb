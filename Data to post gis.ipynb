{
 "cells": [
  {
   "cell_type": "markdown",
   "metadata": {},
   "source": [
    "1. Create a DB client (SQLAlchemy)\n",
    "2. Read the data (geopandas)\n",
    "3. Write the data to the db (geopandas + geoalchemy2)\n",
    "   * `conda install --channel conda-forge geoalchemy2`\n",
    "   * `conda uninstall geopandas` and then `"
   ]
  },
  {
   "cell_type": "code",
   "execution_count": 1,
   "metadata": {},
   "outputs": [],
   "source": [
    "import json\n",
    "from sqlalchemy import create_engine"
   ]
  },
  {
   "cell_type": "code",
   "execution_count": 3,
   "metadata": {},
   "outputs": [],
   "source": [
    "with open(\"pg-credentials.json\", \"r\") as f_in:\n",
    "    pg_creds = json.load(f_in)\n",
    "\n",
    "# load credentials from JSON file\n",
    "HOST = pg_creds[\"HOST\"]\n",
    "USERNAME = pg_creds[\"USERNAME\"]\n",
    "PASSWORD = pg_creds[\"PASSWORD\"]\n",
    "DATABASE = pg_creds[\"DATABASE\"]\n",
    "PORT = pg_creds[\"PORT\"]\n",
    "\n",
    "engine = create_engine(f\"postgresql://{USERNAME}:{PASSWORD}@{HOST}:{PORT}/{DATABASE}\")"
   ]
  },
  {
   "cell_type": "code",
   "execution_count": 4,
   "metadata": {},
   "outputs": [
    {
     "data": {
      "text/plain": [
       "(1,)"
      ]
     },
     "execution_count": 4,
     "metadata": {},
     "output_type": "execute_result"
    }
   ],
   "source": [
    "engine.execute('select 1').fetchone()"
   ]
  },
  {
   "cell_type": "code",
   "execution_count": 5,
   "metadata": {},
   "outputs": [],
   "source": [
    "import geopandas as gpd"
   ]
  },
  {
   "cell_type": "code",
   "execution_count": 7,
   "metadata": {},
   "outputs": [],
   "source": [
    "import pandas as pd\n",
    "\n",
    "df = pd.read_json(\"https://www3.septa.org/hackathon/Stops/index.php?req1=65\")\n",
    "gdf = gpd.GeoDataFrame(df, geometry=gpd.points_from_xy(df.lng, df.lat), crs=\"epsg:4326\")"
   ]
  },
  {
   "cell_type": "code",
   "execution_count": 8,
   "metadata": {},
   "outputs": [
    {
     "data": {
      "text/html": [
       "<div>\n",
       "<style scoped>\n",
       "    .dataframe tbody tr th:only-of-type {\n",
       "        vertical-align: middle;\n",
       "    }\n",
       "\n",
       "    .dataframe tbody tr th {\n",
       "        vertical-align: top;\n",
       "    }\n",
       "\n",
       "    .dataframe thead th {\n",
       "        text-align: right;\n",
       "    }\n",
       "</style>\n",
       "<table border=\"1\" class=\"dataframe\">\n",
       "  <thead>\n",
       "    <tr style=\"text-align: right;\">\n",
       "      <th></th>\n",
       "      <th>lng</th>\n",
       "      <th>lat</th>\n",
       "      <th>stopid</th>\n",
       "      <th>stopname</th>\n",
       "      <th>geometry</th>\n",
       "    </tr>\n",
       "  </thead>\n",
       "  <tbody>\n",
       "    <tr>\n",
       "      <th>0</th>\n",
       "      <td>-75.250644</td>\n",
       "      <td>39.989727</td>\n",
       "      <td>3826</td>\n",
       "      <td>63rd St &amp;amp; City Line Av</td>\n",
       "      <td>POINT (-75.25064 39.98973)</td>\n",
       "    </tr>\n",
       "    <tr>\n",
       "      <th>1</th>\n",
       "      <td>-75.250680</td>\n",
       "      <td>39.989575</td>\n",
       "      <td>20569</td>\n",
       "      <td>63rd St &amp;amp; City Line Av - FS</td>\n",
       "      <td>POINT (-75.25068 39.98958)</td>\n",
       "    </tr>\n",
       "    <tr>\n",
       "      <th>2</th>\n",
       "      <td>-75.249974</td>\n",
       "      <td>39.988467</td>\n",
       "      <td>20571</td>\n",
       "      <td>63rd St &amp;amp; Overbrook Av</td>\n",
       "      <td>POINT (-75.24997 39.98847)</td>\n",
       "    </tr>\n",
       "    <tr>\n",
       "      <th>3</th>\n",
       "      <td>-75.249738</td>\n",
       "      <td>39.988306</td>\n",
       "      <td>3834</td>\n",
       "      <td>63rd St &amp;amp; Overbrook Av</td>\n",
       "      <td>POINT (-75.24974 39.98831)</td>\n",
       "    </tr>\n",
       "    <tr>\n",
       "      <th>4</th>\n",
       "      <td>-75.249244</td>\n",
       "      <td>39.987431</td>\n",
       "      <td>20573</td>\n",
       "      <td>63rd St &amp;amp; Sherwood Rd</td>\n",
       "      <td>POINT (-75.24924 39.98743)</td>\n",
       "    </tr>\n",
       "    <tr>\n",
       "      <th>...</th>\n",
       "      <td>...</td>\n",
       "      <td>...</td>\n",
       "      <td>...</td>\n",
       "      <td>...</td>\n",
       "      <td>...</td>\n",
       "    </tr>\n",
       "    <tr>\n",
       "      <th>124</th>\n",
       "      <td>-75.184384</td>\n",
       "      <td>40.034776</td>\n",
       "      <td>14071</td>\n",
       "      <td>Walnut Ln &amp;amp; Wayne Av</td>\n",
       "      <td>POINT (-75.18438 40.03478)</td>\n",
       "    </tr>\n",
       "    <tr>\n",
       "      <th>125</th>\n",
       "      <td>-75.184573</td>\n",
       "      <td>40.034803</td>\n",
       "      <td>20552</td>\n",
       "      <td>Walnut Ln &amp;amp; Wayne Av - FS</td>\n",
       "      <td>POINT (-75.18457 40.03480)</td>\n",
       "    </tr>\n",
       "    <tr>\n",
       "      <th>126</th>\n",
       "      <td>-75.189558</td>\n",
       "      <td>40.032528</td>\n",
       "      <td>14072</td>\n",
       "      <td>Walnut Ln &amp;amp; Wissahickon Av - FS</td>\n",
       "      <td>POINT (-75.18956 40.03253)</td>\n",
       "    </tr>\n",
       "    <tr>\n",
       "      <th>127</th>\n",
       "      <td>-75.182790</td>\n",
       "      <td>40.034059</td>\n",
       "      <td>16448</td>\n",
       "      <td>Wayne Av &amp;amp; Harvey St</td>\n",
       "      <td>POINT (-75.18279 40.03406)</td>\n",
       "    </tr>\n",
       "    <tr>\n",
       "      <th>128</th>\n",
       "      <td>-75.181091</td>\n",
       "      <td>40.033083</td>\n",
       "      <td>16447</td>\n",
       "      <td>Wayne Av &amp;amp; Rittenhouse St</td>\n",
       "      <td>POINT (-75.18109 40.03308)</td>\n",
       "    </tr>\n",
       "  </tbody>\n",
       "</table>\n",
       "<p>129 rows × 5 columns</p>\n",
       "</div>"
      ],
      "text/plain": [
       "           lng        lat  stopid                             stopname  \\\n",
       "0   -75.250644  39.989727    3826           63rd St &amp; City Line Av   \n",
       "1   -75.250680  39.989575   20569      63rd St &amp; City Line Av - FS   \n",
       "2   -75.249974  39.988467   20571           63rd St &amp; Overbrook Av   \n",
       "3   -75.249738  39.988306    3834           63rd St &amp; Overbrook Av   \n",
       "4   -75.249244  39.987431   20573            63rd St &amp; Sherwood Rd   \n",
       "..         ...        ...     ...                                  ...   \n",
       "124 -75.184384  40.034776   14071             Walnut Ln &amp; Wayne Av   \n",
       "125 -75.184573  40.034803   20552        Walnut Ln &amp; Wayne Av - FS   \n",
       "126 -75.189558  40.032528   14072  Walnut Ln &amp; Wissahickon Av - FS   \n",
       "127 -75.182790  40.034059   16448             Wayne Av &amp; Harvey St   \n",
       "128 -75.181091  40.033083   16447        Wayne Av &amp; Rittenhouse St   \n",
       "\n",
       "                       geometry  \n",
       "0    POINT (-75.25064 39.98973)  \n",
       "1    POINT (-75.25068 39.98958)  \n",
       "2    POINT (-75.24997 39.98847)  \n",
       "3    POINT (-75.24974 39.98831)  \n",
       "4    POINT (-75.24924 39.98743)  \n",
       "..                          ...  \n",
       "124  POINT (-75.18438 40.03478)  \n",
       "125  POINT (-75.18457 40.03480)  \n",
       "126  POINT (-75.18956 40.03253)  \n",
       "127  POINT (-75.18279 40.03406)  \n",
       "128  POINT (-75.18109 40.03308)  \n",
       "\n",
       "[129 rows x 5 columns]"
      ]
     },
     "execution_count": 8,
     "metadata": {},
     "output_type": "execute_result"
    }
   ],
   "source": [
    "gdf"
   ]
  },
  {
   "cell_type": "code",
   "execution_count": 11,
   "metadata": {},
   "outputs": [],
   "source": [
    "from matplotlib import pyplot as plt\n",
    "\n",
    "%matplotlib inline"
   ]
  },
  {
   "cell_type": "code",
   "execution_count": 15,
   "metadata": {},
   "outputs": [],
   "source": [
    "philly=gpd.read_file(\"http://data.phl.opendata.arcgis.com/datasets/405ec3da942d4e20869d4e1449a2be48_0.geojson\")"
   ]
  },
  {
   "cell_type": "code",
   "execution_count": 72,
   "metadata": {},
   "outputs": [],
   "source": [
    "septa=gpd.read_file(\"https://opendata.arcgis.com/datasets/e09e9f98bdf04eada214d2217f3adbf1_0.geojson\")"
   ]
  },
  {
   "cell_type": "code",
   "execution_count": 74,
   "metadata": {},
   "outputs": [],
   "source": [
    "stops= septa.drop_duplicates(subset=['Stop_Name','Mode'])"
   ]
  },
  {
   "cell_type": "code",
   "execution_count": 75,
   "metadata": {},
   "outputs": [
    {
     "data": {
      "text/plain": [
       "array(['Bus', 'Trolley', 'Highspeed'], dtype=object)"
      ]
     },
     "execution_count": 75,
     "metadata": {},
     "output_type": "execute_result"
    }
   ],
   "source": [
    "stops['Mode'].unique()"
   ]
  },
  {
   "cell_type": "code",
   "execution_count": 64,
   "metadata": {},
   "outputs": [
    {
     "data": {
      "text/plain": [
       "<Geographic 2D CRS: EPSG:4326>\n",
       "Name: WGS 84\n",
       "Axis Info [ellipsoidal]:\n",
       "- Lat[north]: Geodetic latitude (degree)\n",
       "- Lon[east]: Geodetic longitude (degree)\n",
       "Area of Use:\n",
       "- name: World\n",
       "- bounds: (-180.0, -90.0, 180.0, 90.0)\n",
       "Datum: World Geodetic System 1984\n",
       "- Ellipsoid: WGS 84\n",
       "- Prime Meridian: Greenwich"
      ]
     },
     "execution_count": 64,
     "metadata": {},
     "output_type": "execute_result"
    }
   ],
   "source": [
    "stops.crs"
   ]
  },
  {
   "cell_type": "code",
   "execution_count": 67,
   "metadata": {},
   "outputs": [],
   "source": [
    "stops_philly=stops[stops.within(philly.geometry[0])]"
   ]
  },
  {
   "cell_type": "code",
   "execution_count": 68,
   "metadata": {},
   "outputs": [
    {
     "data": {
      "text/plain": [
       "6419"
      ]
     },
     "execution_count": 68,
     "metadata": {},
     "output_type": "execute_result"
    }
   ],
   "source": [
    "len(stops_philly)"
   ]
  },
  {
   "cell_type": "code",
   "execution_count": 62,
   "metadata": {},
   "outputs": [
    {
     "data": {
      "text/html": [
       "<div>\n",
       "<style scoped>\n",
       "    .dataframe tbody tr th:only-of-type {\n",
       "        vertical-align: middle;\n",
       "    }\n",
       "\n",
       "    .dataframe tbody tr th {\n",
       "        vertical-align: top;\n",
       "    }\n",
       "\n",
       "    .dataframe thead th {\n",
       "        text-align: right;\n",
       "    }\n",
       "</style>\n",
       "<table border=\"1\" class=\"dataframe\">\n",
       "  <thead>\n",
       "    <tr style=\"text-align: right;\">\n",
       "      <th></th>\n",
       "      <th>OBJECTID</th>\n",
       "      <th>GIS_DB_ID</th>\n",
       "      <th>Sign_Up</th>\n",
       "      <th>Route</th>\n",
       "      <th>Direction</th>\n",
       "      <th>Sequence</th>\n",
       "      <th>Stop_ID</th>\n",
       "      <th>Stop_Abbreviation</th>\n",
       "      <th>Stop_Name</th>\n",
       "      <th>Mode</th>\n",
       "      <th>...</th>\n",
       "      <th>Weekday_Boards</th>\n",
       "      <th>Weekday_Leaves</th>\n",
       "      <th>Saturday_Boards</th>\n",
       "      <th>Saturday_Leaves</th>\n",
       "      <th>Sunday_Boards</th>\n",
       "      <th>Sunday_Leaves</th>\n",
       "      <th>Latitude</th>\n",
       "      <th>Longitude</th>\n",
       "      <th>GlobalID</th>\n",
       "      <th>geometry</th>\n",
       "    </tr>\n",
       "  </thead>\n",
       "  <tbody>\n",
       "    <tr>\n",
       "      <th>0</th>\n",
       "      <td>1</td>\n",
       "      <td>6722579N</td>\n",
       "      <td>City</td>\n",
       "      <td>67</td>\n",
       "      <td>Northbound</td>\n",
       "      <td>134</td>\n",
       "      <td>22579</td>\n",
       "      <td>KNIPATNE</td>\n",
       "      <td>Knights Rd &amp; Patrician Dr</td>\n",
       "      <td>Bus</td>\n",
       "      <td>...</td>\n",
       "      <td>1.0</td>\n",
       "      <td>9.0</td>\n",
       "      <td>0.0</td>\n",
       "      <td>1.0</td>\n",
       "      <td>0.0</td>\n",
       "      <td>1.0</td>\n",
       "      <td>40.081350</td>\n",
       "      <td>-74.976152</td>\n",
       "      <td>07f518b8-0f98-4724-a565-c1263d9fa051</td>\n",
       "      <td>POINT (-74.97615 40.08135)</td>\n",
       "    </tr>\n",
       "    <tr>\n",
       "      <th>1</th>\n",
       "      <td>2</td>\n",
       "      <td>12728080W</td>\n",
       "      <td>Frontier</td>\n",
       "      <td>127</td>\n",
       "      <td>Westbound</td>\n",
       "      <td>38</td>\n",
       "      <td>28080</td>\n",
       "      <td>LEVPENNO</td>\n",
       "      <td>Levittown Pkwy &amp; Penn Ln</td>\n",
       "      <td>Bus</td>\n",
       "      <td>...</td>\n",
       "      <td>0.0</td>\n",
       "      <td>0.0</td>\n",
       "      <td>1.0</td>\n",
       "      <td>0.0</td>\n",
       "      <td>NaN</td>\n",
       "      <td>NaN</td>\n",
       "      <td>40.154454</td>\n",
       "      <td>-74.827669</td>\n",
       "      <td>c9bf2355-e066-43af-bd72-fdc6ba373ea1</td>\n",
       "      <td>POINT (-74.82767 40.15445)</td>\n",
       "    </tr>\n",
       "    <tr>\n",
       "      <th>2</th>\n",
       "      <td>3</td>\n",
       "      <td>89220W</td>\n",
       "      <td>City</td>\n",
       "      <td>89</td>\n",
       "      <td>Westbound</td>\n",
       "      <td>1</td>\n",
       "      <td>220</td>\n",
       "      <td>ARRTRAWE</td>\n",
       "      <td>Arrott Transportation Center</td>\n",
       "      <td>Bus</td>\n",
       "      <td>...</td>\n",
       "      <td>197.0</td>\n",
       "      <td>2.0</td>\n",
       "      <td>47.0</td>\n",
       "      <td>0.0</td>\n",
       "      <td>50.0</td>\n",
       "      <td>0.0</td>\n",
       "      <td>40.016869</td>\n",
       "      <td>-75.084202</td>\n",
       "      <td>b12b9a79-c942-4e78-8b27-508e4da6d71a</td>\n",
       "      <td>POINT (-75.08420 40.01687)</td>\n",
       "    </tr>\n",
       "    <tr>\n",
       "      <th>3</th>\n",
       "      <td>4</td>\n",
       "      <td>3131044E</td>\n",
       "      <td>City</td>\n",
       "      <td>31</td>\n",
       "      <td>Eastbound</td>\n",
       "      <td>24</td>\n",
       "      <td>31044</td>\n",
       "      <td>MAR61SEA</td>\n",
       "      <td>Market St &amp;  61st St - FS</td>\n",
       "      <td>Bus</td>\n",
       "      <td>...</td>\n",
       "      <td>11.0</td>\n",
       "      <td>20.0</td>\n",
       "      <td>3.0</td>\n",
       "      <td>8.0</td>\n",
       "      <td>2.0</td>\n",
       "      <td>6.0</td>\n",
       "      <td>39.962057</td>\n",
       "      <td>-75.242564</td>\n",
       "      <td>6f5aa081-1c66-4a7f-a47b-36c9f280feea</td>\n",
       "      <td>POINT (-75.24256 39.96206)</td>\n",
       "    </tr>\n",
       "    <tr>\n",
       "      <th>4</th>\n",
       "      <td>5</td>\n",
       "      <td>11730011S</td>\n",
       "      <td>Victory</td>\n",
       "      <td>117</td>\n",
       "      <td>Southbound</td>\n",
       "      <td>98</td>\n",
       "      <td>30011</td>\n",
       "      <td>BETTOWEA</td>\n",
       "      <td>Bethal Rd &amp; Townsend St - FS</td>\n",
       "      <td>Bus</td>\n",
       "      <td>...</td>\n",
       "      <td>0.0</td>\n",
       "      <td>9.0</td>\n",
       "      <td>0.0</td>\n",
       "      <td>2.0</td>\n",
       "      <td>0.0</td>\n",
       "      <td>1.0</td>\n",
       "      <td>39.844850</td>\n",
       "      <td>-75.394648</td>\n",
       "      <td>36d6f288-b715-4d6f-af6b-01c5b8e981fd</td>\n",
       "      <td>POINT (-75.39465 39.84485)</td>\n",
       "    </tr>\n",
       "  </tbody>\n",
       "</table>\n",
       "<p>5 rows × 26 columns</p>\n",
       "</div>"
      ],
      "text/plain": [
       "   OBJECTID  GIS_DB_ID   Sign_Up Route   Direction  Sequence  Stop_ID  \\\n",
       "0         1   6722579N      City    67  Northbound       134    22579   \n",
       "1         2  12728080W  Frontier   127   Westbound        38    28080   \n",
       "2         3     89220W      City    89   Westbound         1      220   \n",
       "3         4   3131044E      City    31   Eastbound        24    31044   \n",
       "4         5  11730011S   Victory   117  Southbound        98    30011   \n",
       "\n",
       "  Stop_Abbreviation                     Stop_Name Mode  ... Weekday_Boards  \\\n",
       "0          KNIPATNE     Knights Rd & Patrician Dr  Bus  ...            1.0   \n",
       "1          LEVPENNO      Levittown Pkwy & Penn Ln  Bus  ...            0.0   \n",
       "2          ARRTRAWE  Arrott Transportation Center  Bus  ...          197.0   \n",
       "3          MAR61SEA     Market St &  61st St - FS  Bus  ...           11.0   \n",
       "4          BETTOWEA  Bethal Rd & Townsend St - FS  Bus  ...            0.0   \n",
       "\n",
       "   Weekday_Leaves Saturday_Boards Saturday_Leaves Sunday_Boards Sunday_Leaves  \\\n",
       "0             9.0             0.0             1.0           0.0           1.0   \n",
       "1             0.0             1.0             0.0           NaN           NaN   \n",
       "2             2.0            47.0             0.0          50.0           0.0   \n",
       "3            20.0             3.0             8.0           2.0           6.0   \n",
       "4             9.0             0.0             2.0           0.0           1.0   \n",
       "\n",
       "    Latitude  Longitude                              GlobalID  \\\n",
       "0  40.081350 -74.976152  07f518b8-0f98-4724-a565-c1263d9fa051   \n",
       "1  40.154454 -74.827669  c9bf2355-e066-43af-bd72-fdc6ba373ea1   \n",
       "2  40.016869 -75.084202  b12b9a79-c942-4e78-8b27-508e4da6d71a   \n",
       "3  39.962057 -75.242564  6f5aa081-1c66-4a7f-a47b-36c9f280feea   \n",
       "4  39.844850 -75.394648  36d6f288-b715-4d6f-af6b-01c5b8e981fd   \n",
       "\n",
       "                     geometry  \n",
       "0  POINT (-74.97615 40.08135)  \n",
       "1  POINT (-74.82767 40.15445)  \n",
       "2  POINT (-75.08420 40.01687)  \n",
       "3  POINT (-75.24256 39.96206)  \n",
       "4  POINT (-75.39465 39.84485)  \n",
       "\n",
       "[5 rows x 26 columns]"
      ]
     },
     "execution_count": 62,
     "metadata": {},
     "output_type": "execute_result"
    }
   ],
   "source": [
    "stops.head()"
   ]
  },
  {
   "cell_type": "code",
   "execution_count": 69,
   "metadata": {},
   "outputs": [
    {
     "data": {
      "text/plain": [
       "<AxesSubplot:>"
      ]
     },
     "execution_count": 69,
     "metadata": {},
     "output_type": "execute_result"
    },
    {
     "data": {
      "image/png": "[encoded data removed]",
      "text/plain": [
       "<Figure size 720x576 with 1 Axes>"
      ]
     },
     "metadata": {
      "needs_background": "light"
     },
     "output_type": "display_data"
    }
   ],
   "source": [
    "fig,ax=plt.subplots(figsize=(10,8))\n",
    "\n",
    "stops_philly.plot(ax=ax,markersize=0.1)\n",
    "philly.plot(ax=ax,facecolor=\"none\",edgecolor=\"black\")"
   ]
  },
  {
   "cell_type": "code",
   "execution_count": 65,
   "metadata": {},
   "outputs": [],
   "source": [
    "stops.to_postgis('stops_uniq', con=engine)"
   ]
  },
  {
   "cell_type": "code",
   "execution_count": 71,
   "metadata": {},
   "outputs": [],
   "source": [
    "stops_philly.to_postgis('stops_philly',con=engine)"
   ]
  }
 ],
 "metadata": {
  "kernelspec": {
   "display_name": "Python 3",
   "language": "python",
   "name": "python3"
  },
  "language_info": {
   "codemirror_mode": {
    "name": "ipython",
    "version": 3
   },
   "file_extension": ".py",
   "mimetype": "text/x-python",
   "name": "python",
   "nbconvert_exporter": "python",
   "pygments_lexer": "ipython3",
   "version": "3.8.5"
  }
 },
 "nbformat": 4,
 "nbformat_minor": 4
}
